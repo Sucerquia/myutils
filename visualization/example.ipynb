{
 "cells": [
  {
   "cell_type": "code",
   "execution_count": 2,
   "id": "b9318472",
   "metadata": {},
   "outputs": [],
   "source": [
    "from ase.io import read\n",
    "from utils.visualization.visualizator import sith_viewer"
   ]
  },
  {
   "cell_type": "markdown",
   "id": "fa743f3b",
   "metadata": {},
   "source": [
    "# Visualization"
   ]
  },
  {
   "cell_type": "markdown",
   "id": "3ac0e049",
   "metadata": {},
   "source": [
    "Load the configuration and start the visualization. All modifications will appear in the same graph."
   ]
  },
  {
   "cell_type": "code",
   "execution_count": 3,
   "id": "f9b26e92",
   "metadata": {},
   "outputs": [
    {
     "data": {
      "application/vnd.jupyter.widget-view+json": {
       "model_id": "6691c109dffd4cc0ab8a44dd38af0766",
       "version_major": 2,
       "version_minor": 0
      },
      "text/plain": []
     },
     "metadata": {},
     "output_type": "display_data"
    },
    {
     "data": {
      "application/vnd.jupyter.widget-view+json": {
       "model_id": "a3c1bdcc8c944244b75d94c3c5b8301d",
       "version_major": 2,
       "version_minor": 0
      },
      "text/plain": [
       "HBox(children=(NGLWidget(), VBox(children=(Dropdown(description='Show', options=('All', 'H', 'O', 'N', 'C'), v…"
      ]
     },
     "metadata": {},
     "output_type": "display_data"
    }
   ],
   "source": [
    "atoms = read('Ala-streched0.pdb') # load the configuration\n",
    "\n",
    "viewer = sith_viewer(atoms)       # create the visualization object\n",
    "v = viewer.viewer\n",
    "v                                 # generate the image"
   ]
  },
  {
   "cell_type": "markdown",
   "id": "f800b528",
   "metadata": {},
   "source": [
    "click on one of the atoms and then read the information of that atom"
   ]
  },
  {
   "cell_type": "code",
   "execution_count": 4,
   "id": "baceca35",
   "metadata": {},
   "outputs": [
    {
     "data": {
      "text/plain": [
       "{'atom1': {'index': 16,\n",
       "  'residueIndex': 0,\n",
       "  'resname': 'MOL',\n",
       "  'x': 5.116000175476074,\n",
       "  'y': 2.0910000801086426,\n",
       "  'z': 0.7170000076293945,\n",
       "  'element': 'N',\n",
       "  'chainname': 'A',\n",
       "  'resno': 1,\n",
       "  'serial': 17,\n",
       "  'vdw': 1.55,\n",
       "  'covalent': 0.71,\n",
       "  'hetero': 0,\n",
       "  'bfactor': 0,\n",
       "  'altloc': '',\n",
       "  'atomname': 'N',\n",
       "  'modelIndex': 0,\n",
       "  'name': '[MOL]1:A.N'},\n",
       " 'component': 0}"
      ]
     },
     "execution_count": 4,
     "metadata": {},
     "output_type": "execute_result"
    }
   ],
   "source": [
    "viewer.picked()"
   ]
  },
  {
   "cell_type": "markdown",
   "id": "905b8284",
   "metadata": {},
   "source": [
    "## Bonds"
   ]
  },
  {
   "cell_type": "markdown",
   "id": "1c0c6785",
   "metadata": {},
   "source": [
    "Create a red bond between atoms 19-18 and 18-20."
   ]
  },
  {
   "cell_type": "code",
   "execution_count": 5,
   "id": "c83d8326",
   "metadata": {},
   "outputs": [],
   "source": [
    "viewer.add_bond(19, 18, [1, 0, 0], 0.05)\n",
    "viewer.add_bond(20, 18, [1, 0, 0], 0.05);"
   ]
  },
  {
   "cell_type": "markdown",
   "id": "41bae80f",
   "metadata": {},
   "source": [
    "Also, create a blue path of bonds with the next set of atoms 3, 0, 4, 6  (in that order), with bonds thicker than the previus example."
   ]
  },
  {
   "cell_type": "code",
   "execution_count": 7,
   "id": "de9be133",
   "metadata": {},
   "outputs": [],
   "source": [
    "viewer.add_bonds([3, 0, 4], [0, 4, 6], [0, 0, 1], 0.1);"
   ]
  },
  {
   "cell_type": "markdown",
   "id": "096a8873",
   "metadata": {},
   "source": [
    "You can remove an specific bond, all bonds connected to one atom, a list of bonds or all the bonds in the structure. In that order, it would be:"
   ]
  },
  {
   "cell_type": "code",
   "execution_count": null,
   "id": "971f03d5",
   "metadata": {},
   "outputs": [],
   "source": [
    "viewer.remove_bond(18, 19);\n",
    "viewer.remove_bonds([0]);\n",
    "viewer.remove_bonds()"
   ]
  },
  {
   "cell_type": "markdown",
   "id": "0ad31e37",
   "metadata": {},
   "source": [
    "## Angle"
   ]
  },
  {
   "cell_type": "markdown",
   "id": "35e4405d",
   "metadata": {},
   "source": [
    "It is possible to add an angle"
   ]
  },
  {
   "cell_type": "code",
   "execution_count": 8,
   "id": "4a5c0008",
   "metadata": {},
   "outputs": [],
   "source": [
    "viewer.add_angle(19, 18, 20, n=30);\n",
    "viewer.add_angle(3, 0, 4, n=1);\n",
    "viewer.add_angle(0, 4, 6, color=[0.5, 0.5, 0], n=20);"
   ]
  },
  {
   "cell_type": "markdown",
   "id": "c726f537",
   "metadata": {},
   "source": [
    "also removing it or all in the graph"
   ]
  },
  {
   "cell_type": "code",
   "execution_count": null,
   "id": "97d2fd1c",
   "metadata": {},
   "outputs": [],
   "source": [
    "viewer.remove_angle(19, 18, 20);"
   ]
  },
  {
   "cell_type": "code",
   "execution_count": null,
   "id": "8d348ee8",
   "metadata": {},
   "outputs": [],
   "source": [
    "viewer.remove_all_angles()"
   ]
  },
  {
   "cell_type": "markdown",
   "id": "3e7c5533",
   "metadata": {},
   "source": [
    "# Dihedrals"
   ]
  },
  {
   "cell_type": "markdown",
   "id": "604c5e0f",
   "metadata": {},
   "source": [
    "simple angles and dihedrals are pretty similar"
   ]
  },
  {
   "cell_type": "code",
   "execution_count": 9,
   "id": "ae185181",
   "metadata": {},
   "outputs": [],
   "source": [
    "viewer.add_dihedral(3, 0, 4, 6, color=[0, 0, 0], n=10);"
   ]
  },
  {
   "cell_type": "code",
   "execution_count": null,
   "id": "5d5fbfb2",
   "metadata": {},
   "outputs": [],
   "source": [
    "viewer.remove_dihedral(3, 0, 4, 6);"
   ]
  },
  {
   "cell_type": "code",
   "execution_count": null,
   "id": "87a8f7a5",
   "metadata": {},
   "outputs": [],
   "source": [
    "viewer.remove_all_dihedrals()"
   ]
  }
 ],
 "metadata": {
  "kernelspec": {
   "display_name": "Python 3 (ipykernel)",
   "language": "python",
   "name": "python3"
  },
  "language_info": {
   "codemirror_mode": {
    "name": "ipython",
    "version": 3
   },
   "file_extension": ".py",
   "mimetype": "text/x-python",
   "name": "python",
   "nbconvert_exporter": "python",
   "pygments_lexer": "ipython3",
   "version": "3.9.13"
  }
 },
 "nbformat": 4,
 "nbformat_minor": 5
}
