{
 "cells": [
  {
   "cell_type": "code",
   "execution_count": 3,
   "id": "b9318472",
   "metadata": {},
   "outputs": [],
   "source": [
    "from ase.io import read\n",
    "from utils.visualization.visualizator import sith_viewer"
   ]
  },
  {
   "cell_type": "code",
   "execution_count": 2,
   "id": "f3d388a7",
   "metadata": {},
   "outputs": [],
   "source": [
    "def output_terminal(cmd):\n",
    "    p = subprocess.Popen(cmd,\n",
    "                         shell=True,\n",
    "                         stdout=subprocess.PIPE)\n",
    "\n",
    "    out, err = p.communicate()\n",
    "    return out.decode('ascii')\n",
    "    \n",
    "def optimized_e(file):\n",
    "    out = output_terminal('grep \"E(RBMK) =\" '+file)\n",
    "    energy = float(out.split()[-5])\n",
    "    return energy*27.21 # energy in eV\n",
    "\n",
    "def distance(file, index1, index2):\n",
    "    out = output_terminal(f'python /hits/basement/mbm/sucerquia/utils/distance.py {file} {index1} {index2}')\n",
    "    return float(out)\n",
    "\n",
    "def gpaw_e(file):\n",
    "    out = output_terminal('grep Difference '+file)\n",
    "    energy = float(out.split()[-1])\n",
    "    return energy\n",
    "\n",
    "def get_internal_coordinates(logfile, dims):\n",
    "    out = output_terminal(f'grep -iA {dims+4} optimized {logfile} | tail -n {dims}')\n",
    "    return out\n",
    "\n",
    "def frozen_coords(file):\n",
    "    out = output_terminal(f'grep -i \"frozen\" {file}')\n",
    "    return list(set(out.split()[2::8]))\n",
    "    \n",
    "def compare_labels(optimized, deformed, n, m):\n",
    "    '''optimized is the .log file to the optimized structure\n",
    "       deformed is the .log file of the deformed structure\n",
    "       n in the number of DOF of the optimized structure\n",
    "       m is the number of DOF of the deformed structure'''               \n",
    "    optimized_labels = get_internal_coordinates(optimized, n).split()[2::8]\n",
    "    deformed_labels = get_internal_coordinates(deformed, m).split()[2::8]\n",
    "    frozen = frozen_coords(deformed)\n",
    "    indexes = [deformed_labels.index(label) for label in frozen]\n",
    "    [deformed_labels.remove(DOF) for DOF in frozen]\n",
    "    \n",
    "    assert (np.array(optimized_labels) == np.array(deformed_labels)).all(), \\\n",
    "           f\"The order in the paramenters is not the same, {np.array(optimized_labels)[np.invert(np.array(optimized_labels) == np.array(deformed_labels))]}\"\n",
    "    return indexes\n",
    "\n",
    "def remove_additional_DOF(geo_object, indexes):\n",
    "    dims = geo_object.dims\n",
    "    for i in indexes:\n",
    "        if i < dims[1]:\n",
    "            geo_object.lengths.pop(i)\n",
    "        elif i < dims[1] + dims[2]:\n",
    "            i -= dims[1]\n",
    "            geo_object.lengths.pop(i)\n",
    "        else:\n",
    "            i -= dims[1] + dims[2]\n",
    "            geo_object.lengths.pop(i)\n"
   ]
  },
  {
   "cell_type": "markdown",
   "id": "fa743f3b",
   "metadata": {},
   "source": [
    "# Visualization"
   ]
  },
  {
   "cell_type": "code",
   "execution_count": 4,
   "id": "f9b26e92",
   "metadata": {},
   "outputs": [
    {
     "data": {
      "application/vnd.jupyter.widget-view+json": {
       "model_id": "24a15a56f8074b9fb1998e3a23ddb789",
       "version_major": 2,
       "version_minor": 0
      },
      "text/plain": []
     },
     "metadata": {},
     "output_type": "display_data"
    },
    {
     "data": {
      "application/vnd.jupyter.widget-view+json": {
       "model_id": "6b8777a5408c41af86f71329cc6d1fe7",
       "version_major": 2,
       "version_minor": 0
      },
      "text/plain": [
       "HBox(children=(NGLWidget(), VBox(children=(Dropdown(description='Show', options=('All', 'H', 'O', 'N', 'C'), v…"
      ]
     },
     "metadata": {},
     "output_type": "display_data"
    }
   ],
   "source": [
    "atoms = read('Ala-streched0.pdb')\n",
    "\n",
    "atoms.center(vacuum=1)\n",
    "viewer = sith_viewer(atoms)\n",
    "v = viewer.viewer\n",
    "v"
   ]
  },
  {
   "cell_type": "code",
   "execution_count": 6,
   "id": "f6645418",
   "metadata": {},
   "outputs": [],
   "source": [
    "viewer.add_dihedral(8, 6, 4, 5, color=[0,0,0], n=5)\n",
    "viewer.add_bond(8, 6, [1, 0, 0], 0.02)\n",
    "viewer.add_bond(4, 6, [1, 0, 0], 0.02)\n",
    "viewer.add_bond(4, 5, [1, 0, 0], 0.02);"
   ]
  },
  {
   "cell_type": "code",
   "execution_count": 7,
   "id": "fd90b17c",
   "metadata": {},
   "outputs": [
    {
     "data": {
      "text/plain": [
       "{}"
      ]
     },
     "execution_count": 7,
     "metadata": {},
     "output_type": "execute_result"
    }
   ],
   "source": [
    "v.view.picked"
   ]
  },
  {
   "cell_type": "code",
   "execution_count": null,
   "id": "17764723",
   "metadata": {},
   "outputs": [],
   "source": [
    "v.view.center()\n",
    "viewer.remove_bonds()\n",
    "viewer.add_bond(2, 3, [1, 0, 0], 0.02)\n"
   ]
  },
  {
   "cell_type": "code",
   "execution_count": null,
   "id": "d0399e7c",
   "metadata": {},
   "outputs": [],
   "source": [
    "viewer.add_angle(3, 5, 4, color=[1,0,0], n=5)\n",
    "viewer.add_angle(0, 1, 2, color=[0,1,0], n=5)\n",
    "viewer.add_angle(1, 2, 3, color=[0,0,1], n=5)"
   ]
  },
  {
   "cell_type": "code",
   "execution_count": null,
   "id": "9514a148",
   "metadata": {},
   "outputs": [],
   "source": [
    "viewer.remove_all_angles()"
   ]
  },
  {
   "cell_type": "code",
   "execution_count": null,
   "id": "0f1e8eb1",
   "metadata": {},
   "outputs": [],
   "source": [
    "viewer.remove_angle(3, 5, 4)"
   ]
  },
  {
   "cell_type": "code",
   "execution_count": null,
   "id": "7d06ca8e",
   "metadata": {},
   "outputs": [],
   "source": [
    "viewer.remove_bonds([5])"
   ]
  }
 ],
 "metadata": {
  "kernelspec": {
   "display_name": "Python 3 (ipykernel)",
   "language": "python",
   "name": "python3"
  },
  "language_info": {
   "codemirror_mode": {
    "name": "ipython",
    "version": 3
   },
   "file_extension": ".py",
   "mimetype": "text/x-python",
   "name": "python",
   "nbconvert_exporter": "python",
   "pygments_lexer": "ipython3",
   "version": "3.9.13"
  }
 },
 "nbformat": 4,
 "nbformat_minor": 5
}
