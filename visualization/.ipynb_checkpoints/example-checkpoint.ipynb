{
 "cells": [
  {
   "cell_type": "code",
   "execution_count": 1,
   "id": "b9318472",
   "metadata": {},
   "outputs": [
    {
     "ename": "ImportError",
     "evalue": "cannot import name 'sith_viewer' from 'utils.visualization' (unknown location)",
     "output_type": "error",
     "traceback": [
      "\u001b[0;31m---------------------------------------------------------------------------\u001b[0m",
      "\u001b[0;31mImportError\u001b[0m                               Traceback (most recent call last)",
      "Input \u001b[0;32mIn [1]\u001b[0m, in \u001b[0;36m<cell line: 7>\u001b[0;34m()\u001b[0m\n\u001b[1;32m      5\u001b[0m \u001b[38;5;28;01mfrom\u001b[39;00m \u001b[38;5;21;01mase\u001b[39;00m\u001b[38;5;21;01m.\u001b[39;00m\u001b[38;5;21;01mio\u001b[39;00m \u001b[38;5;28;01mimport\u001b[39;00m read\n\u001b[1;32m      6\u001b[0m \u001b[38;5;28;01mfrom\u001b[39;00m \u001b[38;5;21;01msith\u001b[39;00m\u001b[38;5;21;01m.\u001b[39;00m\u001b[38;5;21;01mSITH\u001b[39;00m \u001b[38;5;28;01mimport\u001b[39;00m SITH\n\u001b[0;32m----> 7\u001b[0m \u001b[38;5;28;01mfrom\u001b[39;00m \u001b[38;5;21;01mutils\u001b[39;00m\u001b[38;5;21;01m.\u001b[39;00m\u001b[38;5;21;01mvisualization\u001b[39;00m \u001b[38;5;28;01mimport\u001b[39;00m sith_viewer\n",
      "\u001b[0;31mImportError\u001b[0m: cannot import name 'sith_viewer' from 'utils.visualization' (unknown location)"
     ]
    }
   ],
   "source": [
    "import matplotlib.pyplot as plt\n",
    "import numpy as np\n",
    "import subprocess\n",
    "from ase.visualize import view\n",
    "from ase.io import read\n",
    "from sith.SITH import SITH\n",
    "from utils.visualization import sith_viewer"
   ]
  },
  {
   "cell_type": "code",
   "execution_count": 2,
   "id": "f3d388a7",
   "metadata": {},
   "outputs": [],
   "source": [
    "def output_terminal(cmd):\n",
    "    p = subprocess.Popen(cmd,\n",
    "                         shell=True,\n",
    "                         stdout=subprocess.PIPE)\n",
    "\n",
    "    out, err = p.communicate()\n",
    "    return out.decode('ascii')\n",
    "    \n",
    "def optimized_e(file):\n",
    "    out = output_terminal('grep \"E(RBMK) =\" '+file)\n",
    "    energy = float(out.split()[-5])\n",
    "    return energy*27.21 # energy in eV\n",
    "\n",
    "def distance(file, index1, index2):\n",
    "    out = output_terminal(f'python /hits/basement/mbm/sucerquia/utils/distance.py {file} {index1} {index2}')\n",
    "    return float(out)\n",
    "\n",
    "def gpaw_e(file):\n",
    "    out = output_terminal('grep Difference '+file)\n",
    "    energy = float(out.split()[-1])\n",
    "    return energy\n",
    "\n",
    "def get_internal_coordinates(logfile, dims):\n",
    "    out = output_terminal(f'grep -iA {dims+4} optimized {logfile} | tail -n {dims}')\n",
    "    return out\n",
    "\n",
    "def frozen_coords(file):\n",
    "    out = output_terminal(f'grep -i \"frozen\" {file}')\n",
    "    return list(set(out.split()[2::8]))\n",
    "    \n",
    "def compare_labels(optimized, deformed, n, m):\n",
    "    '''optimized is the .log file to the optimized structure\n",
    "       deformed is the .log file of the deformed structure\n",
    "       n in the number of DOF of the optimized structure\n",
    "       m is the number of DOF of the deformed structure'''               \n",
    "    optimized_labels = get_internal_coordinates(optimized, n).split()[2::8]\n",
    "    deformed_labels = get_internal_coordinates(deformed, m).split()[2::8]\n",
    "    frozen = frozen_coords(deformed)\n",
    "    indexes = [deformed_labels.index(label) for label in frozen]\n",
    "    [deformed_labels.remove(DOF) for DOF in frozen]\n",
    "    \n",
    "    assert (np.array(optimized_labels) == np.array(deformed_labels)).all(), \\\n",
    "           f\"The order in the paramenters is not the same, {np.array(optimized_labels)[np.invert(np.array(optimized_labels) == np.array(deformed_labels))]}\"\n",
    "    return indexes\n",
    "\n",
    "def remove_additional_DOF(geo_object, indexes):\n",
    "    dims = geo_object.dims\n",
    "    for i in indexes:\n",
    "        if i < dims[1]:\n",
    "            geo_object.lengths.pop(i)\n",
    "        elif i < dims[1] + dims[2]:\n",
    "            i -= dims[1]\n",
    "            geo_object.lengths.pop(i)\n",
    "        else:\n",
    "            i -= dims[1] + dims[2]\n",
    "            geo_object.lengths.pop(i)\n"
   ]
  },
  {
   "cell_type": "code",
   "execution_count": null,
   "id": "d036b31d",
   "metadata": {},
   "outputs": [],
   "source": [
    "class sith_viewer:\n",
    "    def __init__(self, atoms):\n",
    "        ''' Set of graphic tools to see the distribution\n",
    "        of energies in the different degrees of freedom\n",
    "        (lengths, angles, dihedrals)'''\n",
    "        self.atoms = atoms\n",
    "        self.viewer = view(atoms, viewer='ngl')\n",
    "        self.bonds = {}\n",
    "        self.angles = {}\n",
    "        self.dihedrals = {}\n",
    "        self.shape = self.viewer.view.shape\n",
    "        \n",
    "    def add_bond(self, atom1index, atom2index, color=[0.5, 0.5, 0.5], radius=0.1):\n",
    "        ''' Add a bond between two atoms: \n",
    "        atom1 and atom2\n",
    "\n",
    "        Parameters\n",
    "        ==========\n",
    "\n",
    "        atom1index (and atom2index): int\n",
    "            Indexes of the atoms to be connected.\n",
    "\n",
    "        color: list. Default gray([0.5, 0.5, 0.5])\n",
    "            RGB triplet.\n",
    "\n",
    "        radius: float. Default 0.1\n",
    "            Radius of the bond.\n",
    "            \n",
    "        Output\n",
    "        ======\n",
    "        \n",
    "        Return the bonds int the system\n",
    "        '''\n",
    "        \n",
    "        indexes = [atom1index, atom2index]\n",
    "        indexes.sort()\n",
    "        name = ''.join(str(i) for i in indexes)\n",
    "        \n",
    "        self.remove_bond(atom1index, atom2index)\n",
    "        b = self.shape.add_cylinder(self.atoms[atom1index].position,\n",
    "                                   self.atoms[atom2index].position,\n",
    "                                   color,\n",
    "                                   radius)\n",
    "        \n",
    "        self.bonds[name] = b\n",
    "        \n",
    "        return self.bonds\n",
    "        \n",
    "    def add_bonds(self, atoms1indexes, atoms2indexes, colors=None, radii=None):\n",
    "        ''' Add a bond between each pair of atoms corresponding to \n",
    "        two lists of atoms: \n",
    "        atoms1 and atoms.\n",
    "        \n",
    "        Parameters\n",
    "        ==========\n",
    "        \n",
    "        atom1index (and atom2index): int\n",
    "            Indexes of the atoms to be connected\n",
    "        color: list of color lists. Default all gray([0.5, 0.5, 0.5])\n",
    "            RGB triplets for each of the bonds. It can be one a triplet\n",
    "            in case of just one color in all bonds.\n",
    "        radii: float or list of floats. Default 0.1\n",
    "            radius of each bond.\n",
    "            \n",
    "        Output\n",
    "        ======\n",
    "        \n",
    "        Return the bonds int the system\n",
    "        '''\n",
    "        \n",
    "        \n",
    "        if colors is None:\n",
    "            colors = [0.5, 0.5, 0.5]\n",
    "            \n",
    "        if type(colors[0]) is not list:\n",
    "            colors = [colors for i in range(len(atoms1indexes))]\n",
    "            \n",
    "        if radii is None:\n",
    "            radii = 0.1\n",
    "            \n",
    "        if type(radii) is not list:\n",
    "            radii = [radii for i in range(len(atoms1indexes))]\n",
    "            \n",
    "        assert len(atoms1indexes) == len(atoms2indexes), \"The number of atoms \" + \\\n",
    "        \"in both lists must be the same\"\n",
    "        assert len(atoms1indexes) == len(colors), \"The number of colors \" + \\\n",
    "        \"in must be the same as the number of atoms\"\n",
    "        assert len(atoms1indexes) == len(radii), \"The number of radii \" +\\\n",
    "        \"must be the same as the number of atoms\"\n",
    "\n",
    "        for i in range(len(atoms1indexes)):\n",
    "            self.add_bond(atoms1indexes[i],\n",
    "                          atoms2indexes[i],\n",
    "                          colors[i],\n",
    "                          radii[i])\n",
    "        return self.bonds\n",
    "        \n",
    "    def remove_bond(self, atom1index, atom2index):\n",
    "        ''' Remove a bond between two atoms: \n",
    "        atoms1 and atoms2.\n",
    "        \n",
    "        Parameters\n",
    "        ==========\n",
    "        \n",
    "        atom1index (and atom2index): int\n",
    "            Indexes of the atoms that are connected. This bond\n",
    "            will be removed.\n",
    "            \n",
    "        Output\n",
    "        ======\n",
    "        \n",
    "        Return the bonds int the system\n",
    "        '''\n",
    "        indexes = [atom1index, atom2index]\n",
    "        indexes.sort()\n",
    "        name = ''.join(str(i) for i in indexes)\n",
    "        \n",
    "        if name in self.bonds.keys():\n",
    "            self.viewer.view.remove_component(self.bonds[name])\n",
    "            del self.bonds[name]\n",
    "\n",
    "        return self.bonds\n",
    "\n",
    "    def remove_bonds(self, atoms1indexes=None, atoms2indexes=None):\n",
    "        ''' remove several bonds in the plot between two list of atoms: \n",
    "        atoms1 and atoms2.\n",
    "        \n",
    "        Parameters\n",
    "        ==========\n",
    "        \n",
    "        atom1index (and atom2index): list[int]\n",
    "            Indexes of the atoms that are connected. \n",
    "            \n",
    "        Note: if atoms2 is None, all bonds with atoms1 will me removed.\n",
    "        If atoms1 and atoms2 are None, all bonds in the structure are \n",
    "        removed.\n",
    "        '''\n",
    "        if (atoms1indexes is None) and (atoms2indexes is None):\n",
    "            for name in self.bonds.keys():\n",
    "                self.viewer.view.remove_component(self.bonds[name])\n",
    "            self.bonds.clear()\n",
    "            return\n",
    "        \n",
    "        elif (atoms1indexes is not None) and (atoms2indexes is None):\n",
    "            to_remove = []\n",
    "            for name in self.bonds.keys():\n",
    "                for index in atoms1indexes:\n",
    "                    if str(index) in name:\n",
    "                        self.viewer.view.remove_component(self.bonds[name])\n",
    "                        to_remove.append(name)\n",
    "            for name in to_remove:\n",
    "                del self.bonds[name]\n",
    "            return\n",
    "        \n",
    "        else:\n",
    "            assert len(atoms1indexes) == len(atoms2indexes), \"The number of atoms \" + \\\n",
    "            \"in both lists must be the same\"\n",
    "            [self.remove_bond(index1, index2) \\\n",
    "             for index1, index2 in \\\n",
    "             zip(atoms1indexes, atoms2indexes)]\n",
    "    \n",
    "    def plot_arc(self, vertex, arcdots, color):\n",
    "        ''' Add an arc using triangles.\n",
    "        \n",
    "        Parameters\n",
    "        ==========\n",
    "        \n",
    "        vertex: array\n",
    "            center of the arc\n",
    "        arcdots: list of arrays\n",
    "            vectors that define the points of the arc. These\n",
    "            vectors must be defined respect the vertex.\n",
    "        \n",
    "        Output\n",
    "        ======\n",
    "        \n",
    "        Return the triangles in the angle.\n",
    "        '''\n",
    "        triangles = []\n",
    "        for i in range(len(arcdots)-1):\n",
    "            vertexes = np.hstack((vertex,\n",
    "                                  vertex + arcdots[i],\n",
    "                                  vertex + arcdots[i+1]))\n",
    "            t = self.shape.add_mesh(vertexes,\n",
    "                                                color)\n",
    "            triangles.append(t)\n",
    "            \n",
    "        return triangles\n",
    "    \n",
    "    def add_angle(self, atom1index, atom2index, atom3index, color=[0.5,0.5,0.5],\n",
    "                  n=0):\n",
    "        ''' Add an angle to between three atoms: \n",
    "        atom1, atom2 and atom3\n",
    "        - with the vertex in the atom2\n",
    "        \n",
    "        Parameters\n",
    "        ==========\n",
    "        \n",
    "        atom1index, atom2index and atom3index: int\n",
    "            Indexes of the three atoms that defines the angle.\n",
    "        color: color list. Default all gray([0.5, 0.5, 0.5])\n",
    "            RGB triplet.\n",
    "        n: int. Default 10\n",
    "            number of intermedia points to add in the arc of\n",
    "            the angle.\n",
    "            \n",
    "        Output\n",
    "        ======\n",
    "        \n",
    "        Return the angles in the system\n",
    "        '''\n",
    "        \n",
    "        indexes = [atom1index, atom2index, atom3index]\n",
    "        indexes.sort()\n",
    "        name = ''.join(str(i) for i in indexes)\n",
    "        self.remove_angle(atom1index, atom2index, atom3index)\n",
    "        self.angles[name] = []\n",
    "        \n",
    "        vertex = atoms[atom2index].position\n",
    "        side1 = atoms[atom1index].position - vertex\n",
    "        side2 = atoms[atom3index].position - vertex\n",
    "        lenside1 = np.linalg.norm(side1)\n",
    "        lenside2 = np.linalg.norm(side2)\n",
    "        lensides = min(lenside1, lenside2)\n",
    "        side1 = 0.5 * lensides * side1/lenside1\n",
    "        side2 = 0.5 * lensides * side2/lenside2\n",
    "            \n",
    "        \n",
    "        arcdots = [side1, side2]\n",
    "        color = color * 3\n",
    "        \n",
    "        new = self.intermedia_vectors(side1,\n",
    "                                      side2,\n",
    "                                      n)\n",
    "        \n",
    "        if n != 0:\n",
    "            [arcdots.insert(1, vert) for vert in new[::-1]]\n",
    "        \n",
    "        self.angles[name] = self.plot_arc(vertex, arcdots, color)\n",
    "        \n",
    "        return self.angles\n",
    "        \n",
    "        \n",
    "    def intermedia_vectors(self, a, b, n):\n",
    "        ''' Define the intermedia arc dots between two vectors\n",
    "        \n",
    "        Parameters\n",
    "        ==========\n",
    "        \n",
    "        a, b: arrays\n",
    "             side vectors of the angles.\n",
    "        n: int\n",
    "             number of intermedia dots.\n",
    "             \n",
    "            \n",
    "        Output\n",
    "        ======\n",
    "        \n",
    "        Return the intermedia vectors between two side vectors.\n",
    "        '''\n",
    "        \n",
    "        if n == 0:\n",
    "            return []\n",
    "        n += 1\n",
    "        c = b - a\n",
    "        lena = np.linalg.norm(a)\n",
    "        lenb = np.linalg.norm(b)\n",
    "        lenc = np.linalg.norm(c)\n",
    "        lend = min(lena, lenb)\n",
    "        \n",
    "        theta_total = np.arccos(np.dot(a, b)/(lena * lenb))\n",
    "        beta = np.arccos(np.dot(a, c)/(lena * lenc))\n",
    "        intermedia = []\n",
    "        \n",
    "        for i in range(1, n):\n",
    "            theta = i * theta_total/n\n",
    "            gamma = beta - theta\n",
    "            factor = (lena * np.sin(theta))/(lenc * np.sin(gamma))\n",
    "            dird = a + factor * c\n",
    "            d = lend * dird/np.linalg.norm(dird)\n",
    "            intermedia.append(d)\n",
    "        return intermedia\n",
    "    \n",
    "    def remove_angle(self, atom1index, atom2index, atom3index):\n",
    "        '''\n",
    "        Remove an angle if it exists\n",
    "        \n",
    "        Parameters\n",
    "        ==========\n",
    "        \n",
    "        atom1index (and atom2/3index): int\n",
    "            Indexes of the three atoms that defines the angle\n",
    "            to remove.\n",
    "        \n",
    "        Output\n",
    "        ======\n",
    "        \n",
    "        Return the angles\n",
    "        '''\n",
    "        indexes = [atom1index, atom2index, atom3index]\n",
    "        indexes.sort()\n",
    "        name = ''.join(str(i) for i in indexes)\n",
    "        \n",
    "        if name in self.angles.keys():\n",
    "            for triangle in self.angles[name]:\n",
    "                self.viewer.view.remove_component(triangle)\n",
    "            del self.angles[name]\n",
    "        \n",
    "        return self.angles\n",
    "            \n",
    "    def remove_all_angles(self):\n",
    "        ''' remove all angles'''\n",
    "        names = self.angles.keys()\n",
    "        \n",
    "        for name in names:\n",
    "            for triangle in self.angles[name]:\n",
    "                self.viewer.view.remove_component(triangle)\n",
    "        self.angles.clear()\n",
    "        \n",
    "    def add_dihedral(self, atom1index, atom2index, \n",
    "                     atom3index, atom4index, color=[0.5,0.5,0.5], n=0):\n",
    "        ''' Add an dihedral angle between four atoms: \n",
    "        atom1, atom2, atom3 and atom4\n",
    "        - with the vertex in the midle of the atom 2 and 3\n",
    "        \n",
    "        Parameters\n",
    "        ==========\n",
    "        \n",
    "        atom1index, atom2index, atom3index and atom4index: int\n",
    "            Indexes of the three atoms that defines the angle.\n",
    "        color: color list. Default all gray([0.5, 0.5, 0.5])\n",
    "            RGB triplet.\n",
    "        n: int. Default 10\n",
    "            number of intermedia points to add in the arc of\n",
    "            the angle.\n",
    "        \n",
    "        Output\n",
    "        ======\n",
    "        \n",
    "        Return the dihedral angles\n",
    "        '''\n",
    "        indexes = [atom1index, atom2index, atom3index, atom4index]\n",
    "        indexes.sort()\n",
    "        name = ''.join(str(i) for i in indexes)\n",
    "        \n",
    "        axis = self.atoms[atom3index].position - self.atoms[atom2index].position\n",
    "        vertex = 0.5 * (self.atoms[atom3index].position + self.atoms[atom2index].position)\n",
    "        axis1 = self.atoms[atom1index].position - self.atoms[atom2index].position\n",
    "        axis2 = self.atoms[atom4index].position - self.atoms[atom3index].position\n",
    "        \n",
    "        side1 = axis1 - axis * (np.dot(axis, axis1)/np.dot(axis, axis))\n",
    "        side2 = axis2 - axis * (np.dot(axis, axis2)/np.dot(axis, axis))\n",
    "        \n",
    "        arcdots = [side1, side2]\n",
    "        color = color * 3\n",
    "        \n",
    "        new = self.intermedia_vectors(side1,\n",
    "                                      side2,\n",
    "                                      n)\n",
    "        \n",
    "        if n != 0:\n",
    "            [arcdots.insert(1, vert) for vert in new[::-1]]\n",
    "            \n",
    "        self.dihedrals[name] = self.plot_arc(vertex, arcdots, color)\n",
    "        \n",
    "        return self.dihedrals\n",
    "        \n",
    "    def remove_dihedral(self, atom1index, atom2index, atom3index, atom4index):\n",
    "        ''' Remove the dihedral angle between 4 atoms:\n",
    "        \n",
    "        atom1, atom2, atom3 and atom4\n",
    "        \n",
    "        Parameters\n",
    "        ==========\n",
    "\n",
    "        atom1index, atom2index, atom3index and atom4index: int\n",
    "            Indexes of the three atoms that defines the angle.\n",
    "\n",
    "        Output\n",
    "        ======\n",
    "        \n",
    "        Return the dihedral angles\n",
    "        '''\n",
    "        indexes = [atom1index, atom2index, atom3index, atom4index]\n",
    "        indexes.sort()\n",
    "        name = ''.join(str(i) for i in indexes)\n",
    "        \n",
    "        to_remove = []\n",
    "        if name in self.dihedrals.keys():\n",
    "            for triangle in self.dihedrals[name]:\n",
    "                self.viewer.view.remove_component(triangle)\n",
    "            del self.dihedrals[name]\n",
    "                \n",
    "            \n",
    "    def remove_all_dihedrals(self):\n",
    "        ''' remove all dihedral angles'''\n",
    "        names = self.dihedrals.keys()\n",
    "        \n",
    "        for name in names:\n",
    "            for triangle in self.dihedrals[name]:\n",
    "                self.viewer.view.remove_component(triangle)\n",
    "        self.dihedrals.clear()\n",
    "        \n",
    "    def download_image(self):\n",
    "        self.viewer.view.download_image()\n",
    "    \n",
    "    def picked(self):\n",
    "        return self.viewer.view.picked"
   ]
  },
  {
   "cell_type": "markdown",
   "id": "9701a9c2",
   "metadata": {
    "heading_collapsed": true
   },
   "source": [
    "# Parallel"
   ]
  },
  {
   "cell_type": "markdown",
   "id": "8b9a22ac",
   "metadata": {
    "hidden": true
   },
   "source": [
    "I tested the scalability of g09 for Alanine"
   ]
  },
  {
   "cell_type": "code",
   "execution_count": null,
   "id": "9c76a1a1",
   "metadata": {
    "hidden": true
   },
   "outputs": [],
   "source": [
    "a = np.loadtxt('g09_ase/1-parallel-run/results.dat', usecols=[0,4], unpack=True)\n",
    "\n",
    "fig, axes = plt.subplots(2,2, figsize=(20,10))\n",
    "\n",
    "[ax.set_xticks(range(2,18,2)) for ax in axes.flatten()]\n",
    "[ax.tick_params(axis='x', labelsize=20) for ax in axes.flatten()]\n",
    "[ax.tick_params(axis='y', labelsize=20) for ax in axes.flatten()]\n",
    "\n",
    "percen = a[1]/a[1][0]*100\n",
    "\n",
    "axes[0][1].plot(a[0][3:], percen[3:], 'o-')\n",
    "axes[0][1].set_xlabel('cores', fontsize=20)\n",
    "axes[0][1].set_ylabel('improvement initial [%]', fontsize=20)\n",
    "\n",
    "axes[0][0].plot(a[0], percen, 'o-')\n",
    "axes[0][0].set_xlabel('cores', fontsize=20)\n",
    "axes[0][0].set_ylabel('improvement initial [%]', fontsize=20)\n",
    "\n",
    "diff = (a[1][:-1]-a[1][1:])\n",
    "\n",
    "axes[1][0].plot(a[0][1:], diff, 'o-')\n",
    "axes[1][0].set_xlabel('cores', fontsize=20)\n",
    "axes[1][0].set_ylabel('improvement previous [s]', fontsize=20)\n",
    "\n",
    "\n",
    "diff_per = 100*(a[1][:-1]-a[1][1:])/a[1][:-1]\n",
    "\n",
    "axes[1][1].plot(a[0][3:], diff_per[2:], 'o-')\n",
    "axes[1][1].set_xlabel('cores', fontsize=20)\n",
    "axes[1][1].set_ylabel('improvement previous [%]', fontsize=20)"
   ]
  },
  {
   "cell_type": "markdown",
   "id": "459953c3",
   "metadata": {
    "heading_collapsed": true
   },
   "source": [
    "# Energies vs distance"
   ]
  },
  {
   "cell_type": "markdown",
   "id": "5a254f49",
   "metadata": {
    "hidden": true
   },
   "source": [
    "## Alanine"
   ]
  },
  {
   "cell_type": "code",
   "execution_count": null,
   "id": "ddc68354",
   "metadata": {
    "hidden": true
   },
   "outputs": [],
   "source": [
    "ae = [optimized_e(f'g09_ase/4-OptStreched02/Alanine/Ala-streched{i}.log') for i in range(0,11)]\n",
    "ad = [distance(f'g09_ase/4-OptStreched02/Alanine/Ala-streched{i}.log', 0, 18) for i in range(0,11)]\n",
    "ade = ae[-1] - ae[0]\n",
    "print(ade)"
   ]
  },
  {
   "cell_type": "code",
   "execution_count": null,
   "id": "f09766d4",
   "metadata": {
    "hidden": true
   },
   "outputs": [],
   "source": [
    "plt.plot(ad, np.array(ae)-ae[0], '.-')\n",
    "plt.xlabel(r'distance [$\\AA$]', fontsize=20)\n",
    "plt.ylabel('energy [eV]', fontsize=20)"
   ]
  },
  {
   "cell_type": "markdown",
   "id": "81409bb5",
   "metadata": {
    "hidden": true
   },
   "source": [
    "## Glycine"
   ]
  },
  {
   "cell_type": "code",
   "execution_count": null,
   "id": "5243d2d9",
   "metadata": {
    "hidden": true
   },
   "outputs": [],
   "source": [
    "ge = [optimized_e(f'g09_ase/4-OptStreched02/Glycine/Gly-streched{i}.log') for i in range(0,11)]\n",
    "gd = [distance(f'g09_ase/4-OptStreched02/Glycine/Gly-streched{i}.log', 0, 15) for i in range(0,11)]\n",
    "gde = ge[-1] - ge[0]\n",
    "print(gde)"
   ]
  },
  {
   "cell_type": "code",
   "execution_count": null,
   "id": "d2807263",
   "metadata": {
    "hidden": true
   },
   "outputs": [],
   "source": [
    "plt.plot(gd, np.array(ge)-ge[0], '.-')\n",
    "plt.xlabel(r'distance [$\\AA$]', fontsize=20)\n",
    "plt.ylabel('energy [eV]', fontsize=20)"
   ]
  },
  {
   "cell_type": "markdown",
   "id": "0fd4586c",
   "metadata": {
    "hidden": true
   },
   "source": [
    "## Proline"
   ]
  },
  {
   "cell_type": "code",
   "execution_count": null,
   "id": "51cd6950",
   "metadata": {
    "hidden": true
   },
   "outputs": [],
   "source": [
    "pe = [optimized_e(f'g09_ase/4-OptStreched02/Proline/Pro-streched{i}.log') for i in range(0,11)]\n",
    "pd = [distance(f'g09_ase/4-OptStreched02/Proline/Pro-streched{i}.log', 0, 22) for i in range(0,11)]\n",
    "pde = pe[-1] - pe[0]\n",
    "print(pde)"
   ]
  },
  {
   "cell_type": "code",
   "execution_count": null,
   "id": "302a4e2f",
   "metadata": {
    "hidden": true
   },
   "outputs": [],
   "source": [
    "plt.plot(pd, np.array(pe)-pe[0], '.-')\n",
    "plt.xlabel(r'distance [$\\AA$]', fontsize=20)\n",
    "plt.ylabel('energy [eV]', fontsize=20)"
   ]
  },
  {
   "cell_type": "markdown",
   "id": "fa743f3b",
   "metadata": {},
   "source": [
    "# Visualization"
   ]
  },
  {
   "cell_type": "code",
   "execution_count": 3,
   "id": "f9b26e92",
   "metadata": {},
   "outputs": [
    {
     "data": {
      "application/vnd.jupyter.widget-view+json": {
       "model_id": "d970185d31334556b11f096f80443e82",
       "version_major": 2,
       "version_minor": 0
      },
      "text/plain": []
     },
     "metadata": {},
     "output_type": "display_data"
    },
    {
     "data": {
      "application/vnd.jupyter.widget-view+json": {
       "model_id": "8277055411ce4ca483758609898144cb",
       "version_major": 2,
       "version_minor": 0
      },
      "text/plain": [
       "HBox(children=(NGLWidget(), VBox(children=(Dropdown(description='Show', options=('All', 'N', 'O', 'H', 'C'), v…"
      ]
     },
     "metadata": {},
     "output_type": "display_data"
    }
   ],
   "source": [
    "atoms = read('g09_ase/4-OptStreched02/Alanine/Ala-streched0.log')\n",
    "\n",
    "atoms.center(vacuum=1)\n",
    "viewer = sith_viewer(atoms)\n",
    "v = viewer.viewer\n",
    "v"
   ]
  },
  {
   "cell_type": "code",
   "execution_count": 6,
   "id": "f6645418",
   "metadata": {},
   "outputs": [],
   "source": [
    "viewer.add_dihedral(8, 6, 4, 5, color=[0,0,0], n=5)\n",
    "viewer.add_bond(8, 6, [1, 0, 0], 0.02)\n",
    "viewer.add_bond(4, 6, [1, 0, 0], 0.02)\n",
    "viewer.add_bond(4, 5, [1, 0, 0], 0.02);"
   ]
  },
  {
   "cell_type": "code",
   "execution_count": 7,
   "id": "fd90b17c",
   "metadata": {},
   "outputs": [
    {
     "data": {
      "text/plain": [
       "{}"
      ]
     },
     "execution_count": 7,
     "metadata": {},
     "output_type": "execute_result"
    }
   ],
   "source": [
    "v.view.picked"
   ]
  },
  {
   "cell_type": "code",
   "execution_count": null,
   "id": "17764723",
   "metadata": {},
   "outputs": [],
   "source": [
    "v.view.center()\n",
    "viewer.remove_bonds()\n",
    "viewer.add_bond(2, 3, [1, 0, 0], 0.02)\n"
   ]
  },
  {
   "cell_type": "code",
   "execution_count": null,
   "id": "d0399e7c",
   "metadata": {},
   "outputs": [],
   "source": [
    "viewer.add_angle(3, 5, 4, color=[1,0,0], n=5)\n",
    "viewer.add_angle(0, 1, 2, color=[0,1,0], n=5)\n",
    "viewer.add_angle(1, 2, 3, color=[0,0,1], n=5)"
   ]
  },
  {
   "cell_type": "code",
   "execution_count": null,
   "id": "9514a148",
   "metadata": {},
   "outputs": [],
   "source": [
    "viewer.remove_all_angles()"
   ]
  },
  {
   "cell_type": "code",
   "execution_count": null,
   "id": "0f1e8eb1",
   "metadata": {},
   "outputs": [],
   "source": [
    "viewer.remove_angle(3, 5, 4)"
   ]
  },
  {
   "cell_type": "code",
   "execution_count": null,
   "id": "7d06ca8e",
   "metadata": {},
   "outputs": [],
   "source": [
    "viewer.remove_bonds([5])"
   ]
  },
  {
   "cell_type": "markdown",
   "id": "e7e77710",
   "metadata": {
    "heading_collapsed": true
   },
   "source": [
    "# Comparison with GPAW"
   ]
  },
  {
   "cell_type": "code",
   "execution_count": null,
   "id": "ce948e9a",
   "metadata": {
    "hidden": true
   },
   "outputs": [],
   "source": [
    "gpaw_al = gpaw_e('gpaw_comparison/Alanine/*.o')\n",
    "gpaw_gl = gpaw_e('gpaw_comparison/Glycine/*.o')\n",
    "gpaw_pr = gpaw_e('gpaw_comparison/Proline/*.o')\n",
    "\n",
    "gpaw =  [gpaw_al, gpaw_gl, gpaw_pr]\n",
    "g09 = [ade, gde, pde]"
   ]
  },
  {
   "cell_type": "code",
   "execution_count": null,
   "id": "ed677061",
   "metadata": {
    "hidden": true
   },
   "outputs": [],
   "source": [
    "plt.plot(gpaw, 'o', label='GPAW/PBE')\n",
    "plt.plot(g09, 'o', markersize=5, label='g09/BMK')\n",
    "plt.ylabel(r'$\\Delta$ E[eV]', fontsize=20)\n",
    "plt.xticks([0,1,2], ['Alanine', 'Glycine', 'Proline'], fontsize=20)\n",
    "plt.xlim([-0.5,2.5])\n",
    "plt.ylim([0, 5])\n",
    "plt.legend(fontsize=20)"
   ]
  },
  {
   "cell_type": "code",
   "execution_count": null,
   "id": "f3acc078",
   "metadata": {
    "hidden": true,
    "scrolled": false
   },
   "outputs": [],
   "source": [
    "view(atoms, viewer='ngl')"
   ]
  },
  {
   "cell_type": "code",
   "execution_count": null,
   "id": "2bdad8ba",
   "metadata": {
    "hidden": true
   },
   "outputs": [],
   "source": [
    "import nglview\n",
    "view = nglview.show_pdbid(\"3pqr\")  # load \"3pqr\" from RCSB PDB and display viewer widget\n",
    "view"
   ]
  },
  {
   "cell_type": "markdown",
   "id": "86dbb0ca",
   "metadata": {
    "heading_collapsed": true
   },
   "source": [
    "# SITH"
   ]
  },
  {
   "cell_type": "markdown",
   "id": "8f6fbfe8",
   "metadata": {
    "hidden": true
   },
   "source": [
    "I had to remove \"populateQ\" in the initialization of sith because it was mandatory to remove the extra DOF of the deformed structure. In the next cell, it is in \"remove_additional_DOF\""
   ]
  },
  {
   "cell_type": "markdown",
   "id": "52d0ac14",
   "metadata": {
    "heading_collapsed": true,
    "hidden": true
   },
   "source": [
    "## Alanine"
   ]
  },
  {
   "cell_type": "code",
   "execution_count": null,
   "id": "486cde36",
   "metadata": {
    "hidden": true
   },
   "outputs": [],
   "source": [
    "mydir = '/hits/basement/mbm/sucerquia/first_aminoacids/g09_ase/'\n",
    "drelaxed = '2-first-optimization/Alanine/Ala-opt.fchk'\n",
    "dstreched = '4-OptStreched02/Alanine/Ala-streched10.fchk'\n",
    "sith_Ala = SITH(mydir+drelaxed, mydir+dstreched)\n",
    "\n",
    "frozenDOF = compare_labels(mydir+'2-first-optimization/Alanine/Ala-opt.log',\n",
    "                           mydir+'4-OptStreched02/Alanine/Ala-streched10.log',\n",
    "                           98, 99)\n",
    "\n",
    "remove_additional_DOF(sith_Ala.deformed[0], frozenDOF)\n",
    "\n",
    "sith_Ala.populateQ()\n",
    "sith_Ala.energyAnalysis()"
   ]
  },
  {
   "cell_type": "code",
   "execution_count": null,
   "id": "0d7e4ef0",
   "metadata": {
    "hidden": true
   },
   "outputs": [],
   "source": [
    "E_harm = sith_Ala.deformationEnergy[0][0]\n",
    "energies_per_DOF = sith_Ala.energies"
   ]
  },
  {
   "cell_type": "code",
   "execution_count": null,
   "id": "9f0bd2ee",
   "metadata": {
    "hidden": true
   },
   "outputs": [],
   "source": [
    "fig, axes = plt.subplots(2,2, figsize=(15, 15))\n",
    "\n",
    "dims = sith.relaxed.dims\n",
    "\n",
    "[ax.tick_params(axis='both', labelsize=15) for ax in axes.flatten()]\n",
    "\n",
    "axes[0][0].plot(energies_per_DOF, '.-')\n",
    "axes[0][0].set_xlabel('DOF', fontsize=20)\n",
    "\n",
    "axes[0][1].plot(energies_per_DOF[:dims[1]], '.-')\n",
    "axes[0][1].set_xlabel('Lengths DOF', fontsize=20)\n",
    "\n",
    "axes[1][0].plot(energies_per_DOF[dims[1]:dims[1]+dims[2]], '.-')\n",
    "axes[1][0].set_xlabel('Angles DOF', fontsize=20)\n",
    "\n",
    "axes[1][1].plot(energies_per_DOF[dims[1]+dims[2]:], '.-')\n",
    "axes[1][1].set_xlabel('Dihedral DOF', fontsize=20)\n",
    "\n",
    "[ax.set_ylabel('energy [Ev]', fontsize=20) for ax in axes.flatten()]\n",
    "fig.tight_layout()"
   ]
  },
  {
   "cell_type": "markdown",
   "id": "6bf94adf",
   "metadata": {
    "heading_collapsed": true,
    "hidden": true
   },
   "source": [
    "## Glycine"
   ]
  },
  {
   "cell_type": "code",
   "execution_count": null,
   "id": "080367a8",
   "metadata": {
    "hidden": true
   },
   "outputs": [],
   "source": [
    "mydir = '/hits/basement/mbm/sucerquia/first_aminoacids/g09_ase/'\n",
    "drelaxed = '2-first-optimization/Glycine/Gly-opt.fchk'\n",
    "dstreched = '4-OptStreched02/Glycine/Gly-streched10.fchk'\n",
    "sith = SITH(mydir+drelaxed, mydir+dstreched)\n",
    "\n",
    "frozenDOF = compare_labels(mydir+'2-first-optimization/Glycine/Gly-opt.log',\n",
    "                           mydir+'4-OptStreched02/Glycine/Gly-streched10.log',\n",
    "                           80, 81)\n",
    "\n",
    "\n",
    "remove_additional_DOF(sith.deformed[0], frozenDOF)\n",
    "\n",
    "sith.populateQ()\n",
    "sith.energyAnalysis()"
   ]
  },
  {
   "cell_type": "code",
   "execution_count": null,
   "id": "f1567d10",
   "metadata": {
    "hidden": true
   },
   "outputs": [],
   "source": [
    "gly_E_harm = sith.deformationEnergy[0][0]\n",
    "energies_per_DOF = sith.energies"
   ]
  },
  {
   "cell_type": "code",
   "execution_count": null,
   "id": "3d0cb27a",
   "metadata": {
    "hidden": true
   },
   "outputs": [],
   "source": [
    "fig, axes = plt.subplots(2,2, figsize=(15, 15))\n",
    "\n",
    "dims = sith.relaxed.dims\n",
    "\n",
    "[ax.tick_params(axis='both', labelsize=15) for ax in axes.flatten()]\n",
    "\n",
    "axes[0][0].plot(energies_per_DOF, '.-')\n",
    "axes[0][0].set_xlabel('DOF', fontsize=20)\n",
    "\n",
    "axes[0][1].plot(energies_per_DOF[:dims[1]], '.-')\n",
    "axes[0][1].set_xlabel('Lengths DOF', fontsize=20)\n",
    "\n",
    "axes[1][0].plot(energies_per_DOF[dims[1]:dims[1]+dims[2]], '.-')\n",
    "axes[1][0].set_xlabel('Angles DOF', fontsize=20)\n",
    "\n",
    "axes[1][1].plot(energies_per_DOF[dims[1]+dims[2]:], '.-')\n",
    "axes[1][1].set_xlabel('Dihedral DOF', fontsize=20)\n",
    "\n",
    "[ax.set_ylabel('energy [a.u]', fontsize=20) for ax in axes.flatten()]\n",
    "fig.tight_layout()"
   ]
  },
  {
   "cell_type": "markdown",
   "id": "6311a4a8",
   "metadata": {
    "heading_collapsed": true,
    "hidden": true
   },
   "source": [
    "## Proline"
   ]
  },
  {
   "cell_type": "code",
   "execution_count": null,
   "id": "ea085f8b",
   "metadata": {
    "hidden": true
   },
   "outputs": [],
   "source": [
    "mydir = '/hits/basement/mbm/sucerquia/first_aminoacids/g09_ase/'\n",
    "drelaxed = '2-first-optimization/Proline/Pro-opt.fchk'\n",
    "dstreched = '4-OptStreched02/Proline/Pro-streched10.fchk'\n",
    "sith_pro = SITH(mydir+drelaxed, mydir+dstreched)\n",
    "\n",
    "frozenDOF = compare_labels(mydir+'2-first-optimization/Proline/Pro-opt.log',\n",
    "                           mydir+'4-OptStreched02/Proline/Pro-streched10.log',\n",
    "                           80, 81)\n",
    "\n",
    "\n",
    "remove_additional_DOF(sith_pro.deformed[0], frozenDOF)\n",
    "\n",
    "sith_pro.populateQ()\n",
    "sith_pro.energyAnalysis()"
   ]
  },
  {
   "cell_type": "code",
   "execution_count": null,
   "id": "3455b7e4",
   "metadata": {
    "hidden": true
   },
   "outputs": [],
   "source": [
    "E_harm_pro = sith_pro.deformationEnergy[0][0]\n",
    "energies_per_DOF_pro = sith_pro.energies"
   ]
  },
  {
   "cell_type": "code",
   "execution_count": null,
   "id": "d61d9845",
   "metadata": {
    "hidden": true
   },
   "outputs": [],
   "source": [
    "fig, axes = plt.subplots(2,2, figsize=(15, 15))\n",
    "\n",
    "dims = sith.relaxed.dims\n",
    "\n",
    "[ax.tick_params(axis='both', labelsize=15) for ax in axes.flatten()]\n",
    "\n",
    "axes[0][0].plot(energies_per_DOF_pro, '.-')\n",
    "axes[0][0].set_xlabel('DOF', fontsize=20)\n",
    "\n",
    "axes[0][1].plot(energies_per_DOF_pro[:dims[1]], '.-')\n",
    "axes[0][1].set_xlabel('Lengths DOF', fontsize=20)\n",
    "\n",
    "axes[1][0].plot(energies_per_DOF_pro[dims[1]:dims[1]+dims[2]], '.-')\n",
    "axes[1][0].set_xlabel('Angles DOF', fontsize=20)\n",
    "\n",
    "axes[1][1].plot(energies_per_DOF_pro[dims[1]+dims[2]:], '.-')\n",
    "axes[1][1].set_xlabel('Dihedral DOF', fontsize=20)\n",
    "\n",
    "[ax.set_ylabel('energy [Ev]', fontsize=20) for ax in axes.flatten()]\n",
    "fig.tight_layout()"
   ]
  },
  {
   "cell_type": "markdown",
   "id": "db9f5858",
   "metadata": {},
   "source": [
    "# Bug?\n",
    "\n",
    "The units of the log file and fchk files are different. However, the transformation of the angles in the dihedral case is not the same for all values."
   ]
  },
  {
   "cell_type": "code",
   "execution_count": null,
   "id": "22a9269e",
   "metadata": {},
   "outputs": [],
   "source": [
    "fig, axes = plt.subplots(1,3, figsize=(20, 5))\n",
    "\n",
    "axes[0].plot((values_IRC/values_IRC_sith)[:19])\n",
    "axes[0].set_title('log distances/fchk distances', fontsize=20)\n",
    "axes[0].set_ylim([0,1])\n",
    "\n",
    "axes[1].plot((values_IRC/values_IRC_sith)[19:-32])\n",
    "axes[1].set_title('log angles/fchk angles', fontsize=20)\n",
    "axes[1].set_ylim([50,60])\n",
    "\n",
    "axes[2].plot((values_IRC/values_IRC_sith)[-32:])\n",
    "axes[2].set_title('log dihedrals/fchk dihedrals', fontsize=20)"
   ]
  }
 ],
 "metadata": {
  "kernelspec": {
   "display_name": "Python 3 (ipykernel)",
   "language": "python",
   "name": "python3"
  },
  "language_info": {
   "codemirror_mode": {
    "name": "ipython",
    "version": 3
   },
   "file_extension": ".py",
   "mimetype": "text/x-python",
   "name": "python",
   "nbconvert_exporter": "python",
   "pygments_lexer": "ipython3",
   "version": "3.9.13"
  }
 },
 "nbformat": 4,
 "nbformat_minor": 5
}
